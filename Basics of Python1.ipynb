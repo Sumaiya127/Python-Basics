{
 "cells": [
  {
   "cell_type": "code",
   "execution_count": 31,
   "id": "8729d6cd",
   "metadata": {},
   "outputs": [
    {
     "name": "stdout",
     "output_type": "stream",
     "text": [
      "sumaiya\n"
     ]
    }
   ],
   "source": [
    "##HOW TO NAME A VARIABLE\n",
    "\n",
    "\n",
    "\n",
    "var_name= \"sumaiya\"\n",
    "print(var_name)"
   ]
  },
  {
   "cell_type": "code",
   "execution_count": 3,
   "id": "31555140",
   "metadata": {},
   "outputs": [
    {
     "ename": "SyntaxError",
     "evalue": "invalid decimal literal (2850168601.py, line 1)",
     "output_type": "error",
     "traceback": [
      "\u001b[0;36m  File \u001b[0;32m\"/var/folders/n5/d0dzsz8j1633csz_x01jmbhh0000gp/T/ipykernel_1656/2850168601.py\"\u001b[0;36m, line \u001b[0;32m1\u001b[0m\n\u001b[0;31m    2_var=\"sumaiya\"\u001b[0m\n\u001b[0m     ^\u001b[0m\n\u001b[0;31mSyntaxError\u001b[0m\u001b[0;31m:\u001b[0m invalid decimal literal\n"
     ]
    }
   ],
   "source": [
    "2_var=\"sumaiya\"           ##variable name first symbol should be an alphabet or underscore sign\n",
    "print(2_var)"
   ]
  },
  {
   "cell_type": "code",
   "execution_count": 4,
   "id": "913b39d4",
   "metadata": {},
   "outputs": [
    {
     "name": "stdout",
     "output_type": "stream",
     "text": [
      "sumaiya\n"
     ]
    }
   ],
   "source": [
    "_varname=\"sumaiya\"\n",
    "print(_varname)"
   ]
  },
  {
   "cell_type": "code",
   "execution_count": 5,
   "id": "9e49a43b",
   "metadata": {},
   "outputs": [
    {
     "ename": "SyntaxError",
     "evalue": "invalid syntax (2831499712.py, line 1)",
     "output_type": "error",
     "traceback": [
      "\u001b[0;36m  File \u001b[0;32m\"/var/folders/n5/d0dzsz8j1633csz_x01jmbhh0000gp/T/ipykernel_1656/2831499712.py\"\u001b[0;36m, line \u001b[0;32m1\u001b[0m\n\u001b[0;31m    var name =\"sumaiya\"\u001b[0m\n\u001b[0m        ^\u001b[0m\n\u001b[0;31mSyntaxError\u001b[0m\u001b[0;31m:\u001b[0m invalid syntax\n"
     ]
    }
   ],
   "source": [
    "var name =\"sumaiya\"\n",
    "print(var name)      ##space is not allowed while naming the variable"
   ]
  },
  {
   "cell_type": "code",
   "execution_count": 6,
   "id": "22d3af54",
   "metadata": {},
   "outputs": [
    {
     "ename": "SyntaxError",
     "evalue": "cannot assign to operator (1481496447.py, line 1)",
     "output_type": "error",
     "traceback": [
      "\u001b[0;36m  File \u001b[0;32m\"/var/folders/n5/d0dzsz8j1633csz_x01jmbhh0000gp/T/ipykernel_1656/1481496447.py\"\u001b[0;36m, line \u001b[0;32m1\u001b[0m\n\u001b[0;31m    var@name=\"sumaiya\"\u001b[0m\n\u001b[0m    ^\u001b[0m\n\u001b[0;31mSyntaxError\u001b[0m\u001b[0;31m:\u001b[0m cannot assign to operator\n"
     ]
    }
   ],
   "source": [
    "var@name=\"sumaiya\"\n",
    "print(var@name)     ##no special symbols are allowed except underscore \"_\" sign"
   ]
  },
  {
   "cell_type": "code",
   "execution_count": 32,
   "id": "54a3c685",
   "metadata": {},
   "outputs": [
    {
     "name": "stdout",
     "output_type": "stream",
     "text": [
      "My nameisSumaiya\n"
     ]
    }
   ],
   "source": [
    "a=\"My name\"\n",
    "b=\"is\"\n",
    "c=\"Sumaiya\"\n",
    "\n",
    "print(a+b+c)     ##concatenation because it is string"
   ]
  },
  {
   "cell_type": "code",
   "execution_count": 33,
   "id": "74dadf06",
   "metadata": {},
   "outputs": [
    {
     "name": "stdout",
     "output_type": "stream",
     "text": [
      "My name is Sumaiya\n"
     ]
    }
   ],
   "source": [
    "print(a,b,c)      ##To have space between the words we print this way"
   ]
  },
  {
   "cell_type": "code",
   "execution_count": 34,
   "id": "55547304",
   "metadata": {},
   "outputs": [
    {
     "ename": "SyntaxError",
     "evalue": "invalid syntax (1610459227.py, line 8)",
     "output_type": "error",
     "traceback": [
      "\u001b[0;36m  File \u001b[0;32m\"/var/folders/n5/d0dzsz8j1633csz_x01jmbhh0000gp/T/ipykernel_1656/1610459227.py\"\u001b[0;36m, line \u001b[0;32m8\u001b[0m\n\u001b[0;31m    print(a b c d e f)   ##if we don't put comma we get an invalid syntax\u001b[0m\n\u001b[0m            ^\u001b[0m\n\u001b[0;31mSyntaxError\u001b[0m\u001b[0;31m:\u001b[0m invalid syntax\n"
     ]
    }
   ],
   "source": [
    "a=\"Data\"\n",
    "b=\"Science\"\n",
    "c=\"is\"\n",
    "d=\"an\"\n",
    "e=\"interesting\"      \n",
    "f=\"field\"\n",
    "\n",
    "print(a b c d e f)   ##if we don't put comma we get an invalid syntax"
   ]
  },
  {
   "cell_type": "code",
   "execution_count": 35,
   "id": "69ce7df1",
   "metadata": {},
   "outputs": [
    {
     "name": "stdout",
     "output_type": "stream",
     "text": [
      "3.0\n"
     ]
    },
    {
     "data": {
      "text/plain": [
       "float"
      ]
     },
     "execution_count": 35,
     "metadata": {},
     "output_type": "execute_result"
    }
   ],
   "source": [
    "##TO DEFINE THE DATA TYPE\n",
    "\n",
    "\n",
    "a=float(3)\n",
    "print(a)\n",
    "type(a)"
   ]
  },
  {
   "cell_type": "code",
   "execution_count": 36,
   "id": "6d2fc286",
   "metadata": {},
   "outputs": [
    {
     "name": "stdout",
     "output_type": "stream",
     "text": [
      "(3+0j)\n"
     ]
    },
    {
     "data": {
      "text/plain": [
       "complex"
      ]
     },
     "execution_count": 36,
     "metadata": {},
     "output_type": "execute_result"
    }
   ],
   "source": [
    "b= complex(3)\n",
    "print(b)\n",
    "type(b)"
   ]
  },
  {
   "cell_type": "code",
   "execution_count": 37,
   "id": "cd75b313",
   "metadata": {},
   "outputs": [
    {
     "name": "stdout",
     "output_type": "stream",
     "text": [
      "1\n"
     ]
    }
   ],
   "source": [
    "x=21%5\n",
    "\n",
    "print(x)"
   ]
  },
  {
   "cell_type": "code",
   "execution_count": 39,
   "id": "608ad98e",
   "metadata": {},
   "outputs": [
    {
     "name": "stdout",
     "output_type": "stream",
     "text": [
      "Variable   Type       Data/Info\n",
      "-------------------------------\n",
      "a          float      3.0\n",
      "b          complex    (3+0j)\n",
      "c          str        Sumaiya\n",
      "d          str        an\n",
      "e          str        interesting\n",
      "f          str        field\n",
      "var_name   str        sumaiya\n",
      "x          int        1\n"
     ]
    }
   ],
   "source": [
    "%whos"
   ]
  },
  {
   "cell_type": "code",
   "execution_count": null,
   "id": "368e7bd4",
   "metadata": {},
   "outputs": [],
   "source": [
    "##OPERATORS\n"
   ]
  },
  {
   "cell_type": "code",
   "execution_count": 40,
   "id": "ee799d5a",
   "metadata": {},
   "outputs": [
    {
     "name": "stdout",
     "output_type": "stream",
     "text": [
      "1904\n"
     ]
    }
   ],
   "source": [
    "a=56\n",
    "b=34\n",
    "\n",
    "print(a*b)     #Multiplication"
   ]
  },
  {
   "cell_type": "code",
   "execution_count": 46,
   "id": "278b80c0",
   "metadata": {},
   "outputs": [
    {
     "name": "stdout",
     "output_type": "stream",
     "text": [
      "8.0\n"
     ]
    }
   ],
   "source": [
    "c=56\n",
    "d=7\n",
    "\n",
    "print(c/d) #Division"
   ]
  },
  {
   "cell_type": "code",
   "execution_count": 49,
   "id": "208d9d6e",
   "metadata": {},
   "outputs": [
    {
     "name": "stdout",
     "output_type": "stream",
     "text": [
      "7\n"
     ]
    }
   ],
   "source": [
    "e=28\n",
    "f=4\n",
    "\n",
    "print(e//f)  ##Floor division- gives quotient of division"
   ]
  },
  {
   "cell_type": "code",
   "execution_count": 51,
   "id": "8c8bdbf6",
   "metadata": {},
   "outputs": [
    {
     "name": "stdout",
     "output_type": "stream",
     "text": [
      "False\n",
      "<class 'bool'>\n"
     ]
    }
   ],
   "source": [
    "g=3\n",
    "h=7\n",
    "\n",
    "print(g==h)\n",
    "print(type(g==h))            ##boolean expression"
   ]
  },
  {
   "cell_type": "code",
   "execution_count": 65,
   "id": "60af08b7",
   "metadata": {},
   "outputs": [
    {
     "name": "stdout",
     "output_type": "stream",
     "text": [
      "<class 'bool'>\n"
     ]
    }
   ],
   "source": [
    "i=True\n",
    "j=False\n",
    "k=True\n",
    "print(type(i))"
   ]
  },
  {
   "cell_type": "code",
   "execution_count": 66,
   "id": "7faa0e16",
   "metadata": {},
   "outputs": [
    {
     "name": "stdout",
     "output_type": "stream",
     "text": [
      "Variable   Type    Data/Info\n",
      "----------------------------\n",
      "a          int     6\n",
      "b          int     5\n",
      "c          int     2\n",
      "d          int     7\n",
      "e          int     28\n",
      "f          int     4\n",
      "g          int     3\n",
      "h          int     7\n",
      "i          bool    True\n",
      "j          bool    False\n",
      "k          bool    True\n",
      "var_name   str     sumaiya\n",
      "x          int     1\n"
     ]
    }
   ],
   "source": [
    "%whos"
   ]
  },
  {
   "cell_type": "code",
   "execution_count": 61,
   "id": "af867559",
   "metadata": {},
   "outputs": [
    {
     "name": "stdout",
     "output_type": "stream",
     "text": [
      "False\n"
     ]
    }
   ],
   "source": [
    "print(i and j)       ##TRUE==1 and False==0. and is multiplication,hence output 1*0=0=false"
   ]
  },
  {
   "cell_type": "code",
   "execution_count": 62,
   "id": "a6a2543c",
   "metadata": {},
   "outputs": [
    {
     "name": "stdout",
     "output_type": "stream",
     "text": [
      "False\n"
     ]
    }
   ],
   "source": [
    "print(j and k)"
   ]
  },
  {
   "cell_type": "code",
   "execution_count": 67,
   "id": "7cedbfa8",
   "metadata": {},
   "outputs": [
    {
     "name": "stdout",
     "output_type": "stream",
     "text": [
      "True\n"
     ]
    }
   ],
   "source": [
    "print(i and k)"
   ]
  },
  {
   "cell_type": "code",
   "execution_count": 68,
   "id": "f7a530f6",
   "metadata": {},
   "outputs": [
    {
     "name": "stdout",
     "output_type": "stream",
     "text": [
      "True\n"
     ]
    }
   ],
   "source": [
    "l=j or k\n",
    "print(l)      ##or is used as addition. hence,output is false(0)+True(1)=1=True"
   ]
  },
  {
   "cell_type": "code",
   "execution_count": 69,
   "id": "fdb15507",
   "metadata": {},
   "outputs": [
    {
     "data": {
      "text/plain": [
       "False"
      ]
     },
     "execution_count": 69,
     "metadata": {},
     "output_type": "execute_result"
    }
   ],
   "source": [
    "not(l)      ##not means opposite,hence output is false"
   ]
  },
  {
   "cell_type": "code",
   "execution_count": 70,
   "id": "fb8c63cc",
   "metadata": {},
   "outputs": [
    {
     "data": {
      "text/plain": [
       "False"
      ]
     },
     "execution_count": 70,
     "metadata": {},
     "output_type": "execute_result"
    }
   ],
   "source": [
    "not((j or k) and (k and i))       "
   ]
  },
  {
   "cell_type": "code",
   "execution_count": 71,
   "id": "db8e7022",
   "metadata": {},
   "outputs": [
    {
     "data": {
      "text/plain": [
       "True"
      ]
     },
     "execution_count": 71,
     "metadata": {},
     "output_type": "execute_result"
    }
   ],
   "source": [
    "((not(j)) or (k and j))"
   ]
  },
  {
   "cell_type": "code",
   "execution_count": 72,
   "id": "9da9425d",
   "metadata": {},
   "outputs": [
    {
     "name": "stdout",
     "output_type": "stream",
     "text": [
      "False\n"
     ]
    }
   ],
   "source": [
    "a=9\n",
    "b=7\n",
    "\n",
    "print(a==b)        #as a is not equal to b,hence output is false"
   ]
  },
  {
   "cell_type": "code",
   "execution_count": 73,
   "id": "5a1661ed",
   "metadata": {},
   "outputs": [
    {
     "name": "stdout",
     "output_type": "stream",
     "text": [
      "True\n"
     ]
    }
   ],
   "source": [
    "a=9\n",
    "b=9\n",
    "\n",
    "print(a==b)    #since its equal,output is true"
   ]
  },
  {
   "cell_type": "code",
   "execution_count": 74,
   "id": "c6672f01",
   "metadata": {},
   "outputs": [
    {
     "name": "stdout",
     "output_type": "stream",
     "text": [
      "True\n"
     ]
    }
   ],
   "source": [
    "a=89\n",
    "b=99\n",
    "\n",
    "print(a!=b)    ##!= means not equals to"
   ]
  },
  {
   "cell_type": "code",
   "execution_count": 75,
   "id": "5f55c62d",
   "metadata": {},
   "outputs": [
    {
     "name": "stdout",
     "output_type": "stream",
     "text": [
      "False\n"
     ]
    }
   ],
   "source": [
    "a=99\n",
    "b=99\n",
    "\n",
    "print(a!=b)"
   ]
  },
  {
   "cell_type": "code",
   "execution_count": 76,
   "id": "ff01306f",
   "metadata": {},
   "outputs": [
    {
     "name": "stdout",
     "output_type": "stream",
     "text": [
      "False\n"
     ]
    }
   ],
   "source": [
    "a=23\n",
    "b=45\n",
    "\n",
    "print(a>b)"
   ]
  },
  {
   "cell_type": "code",
   "execution_count": 77,
   "id": "891529b1",
   "metadata": {},
   "outputs": [
    {
     "name": "stdout",
     "output_type": "stream",
     "text": [
      "True\n"
     ]
    }
   ],
   "source": [
    "print(b>a)"
   ]
  },
  {
   "cell_type": "code",
   "execution_count": 78,
   "id": "a0bbfd62",
   "metadata": {},
   "outputs": [
    {
     "name": "stdout",
     "output_type": "stream",
     "text": [
      "True\n"
     ]
    }
   ],
   "source": [
    "print(a<b)"
   ]
  },
  {
   "cell_type": "code",
   "execution_count": 79,
   "id": "58970474",
   "metadata": {},
   "outputs": [
    {
     "name": "stdout",
     "output_type": "stream",
     "text": [
      "True\n"
     ]
    }
   ],
   "source": [
    "a=7\n",
    "b=4\n",
    "c=7\n",
    "\n",
    "print(a>=c)"
   ]
  },
  {
   "cell_type": "code",
   "execution_count": 80,
   "id": "3083b738",
   "metadata": {},
   "outputs": [
    {
     "name": "stdout",
     "output_type": "stream",
     "text": [
      "False\n"
     ]
    }
   ],
   "source": [
    "print(a<=b)"
   ]
  },
  {
   "cell_type": "code",
   "execution_count": 83,
   "id": "c0db3e08",
   "metadata": {},
   "outputs": [
    {
     "name": "stdout",
     "output_type": "stream",
     "text": [
      "True\n",
      "<class 'bool'>\n"
     ]
    }
   ],
   "source": [
    "z=(a>=c)\n",
    "print(z)\n",
    "print(type(z))  #output of expression is boolean "
   ]
  },
  {
   "cell_type": "code",
   "execution_count": 84,
   "id": "6516e3b6",
   "metadata": {},
   "outputs": [
    {
     "name": "stdout",
     "output_type": "stream",
     "text": [
      "True\n"
     ]
    }
   ],
   "source": [
    "a=4\n",
    "b=8\n",
    "c=9\n",
    "d=8\n",
    "\n",
    "print((b>a) or(b==d))  "
   ]
  },
  {
   "cell_type": "code",
   "execution_count": 87,
   "id": "abff9ffd",
   "metadata": {},
   "outputs": [
    {
     "name": "stdout",
     "output_type": "stream",
     "text": [
      "False\n"
     ]
    }
   ],
   "source": [
    "print((c!=d) and (b != d))"
   ]
  },
  {
   "cell_type": "code",
   "execution_count": 88,
   "id": "11b2974a",
   "metadata": {},
   "outputs": [
    {
     "data": {
      "text/plain": [
       "False"
      ]
     },
     "execution_count": 88,
     "metadata": {},
     "output_type": "execute_result"
    }
   ],
   "source": [
    "(True and False) or not(True)"
   ]
  },
  {
   "cell_type": "code",
   "execution_count": 90,
   "id": "a29a35d8",
   "metadata": {},
   "outputs": [
    {
     "name": "stdout",
     "output_type": "stream",
     "text": [
      "My name is Sumaiya\n",
      "<class 'str'>\n"
     ]
    }
   ],
   "source": [
    "##STRING OPERATIONS\n",
    "\n",
    "a=\"My name is Sumaiya\"\n",
    "\n",
    "print(a)\n",
    "print(type(a))   ##any thing in double,triple,single quote is a string"
   ]
  },
  {
   "cell_type": "code",
   "execution_count": 93,
   "id": "7e6c71cf",
   "metadata": {},
   "outputs": [
    {
     "name": "stdout",
     "output_type": "stream",
     "text": [
      "My name is Sumaiya Irshad. \n",
      "I am a student of Birchwood University.\n",
      "I am doing Masters in Data Science.\n"
     ]
    }
   ],
   "source": [
    "multi_line= \"\"\"My name is Sumaiya Irshad. \n",
    "I am a student of Birchwood University.\n",
    "I am doing Masters in Data Science.\"\"\"\n",
    "\n",
    "\n",
    "\n",
    "print(multi_line)                 ##To write multiple lines we use triple quote."
   ]
  },
  {
   "cell_type": "code",
   "execution_count": 94,
   "id": "74d719f8",
   "metadata": {},
   "outputs": [
    {
     "ename": "SyntaxError",
     "evalue": "EOL while scanning string literal (3900233732.py, line 1)",
     "output_type": "error",
     "traceback": [
      "\u001b[0;36m  File \u001b[0;32m\"/var/folders/n5/d0dzsz8j1633csz_x01jmbhh0000gp/T/ipykernel_1656/3900233732.py\"\u001b[0;36m, line \u001b[0;32m1\u001b[0m\n\u001b[0;31m    multi_line= \"My name is Sumaiya Irshad.\u001b[0m\n\u001b[0m                                            ^\u001b[0m\n\u001b[0;31mSyntaxError\u001b[0m\u001b[0;31m:\u001b[0m EOL while scanning string literal\n"
     ]
    }
   ],
   "source": [
    "multi_line= \"My name is Sumaiya Irshad. \n",
    "I am a student of Birchwood University.\n",
    "I am doing Masters in Data Science.\"\n",
    "\n",
    "\n",
    "\n",
    "print(multi_line)     ##If we use single or double quote to write multiple lines we will get an error!!"
   ]
  },
  {
   "cell_type": "code",
   "execution_count": 95,
   "id": "e3c4680d",
   "metadata": {},
   "outputs": [
    {
     "name": "stdout",
     "output_type": "stream",
     "text": [
      "103\n"
     ]
    }
   ],
   "source": [
    "print(len(multi_line))   ##len gives the length of string"
   ]
  },
  {
   "cell_type": "code",
   "execution_count": 97,
   "id": "ad1329ca",
   "metadata": {},
   "outputs": [
    {
     "name": "stdout",
     "output_type": "stream",
     "text": [
      "False\n"
     ]
    }
   ],
   "source": [
    "print(\"ert\" in multi_line)"
   ]
  },
  {
   "cell_type": "code",
   "execution_count": 98,
   "id": "3d30a85e",
   "metadata": {},
   "outputs": [
    {
     "name": "stdout",
     "output_type": "stream",
     "text": [
      "My name\n"
     ]
    }
   ],
   "source": [
    "a=\"My name is Sumaiya\"\n",
    "\n",
    "print(a[:7])     #slicing in string by using index numbers\n",
    "                #since before colon no number is written so it takes 0 index number by default"
   ]
  },
  {
   "cell_type": "code",
   "execution_count": 99,
   "id": "3a6c7904",
   "metadata": {},
   "outputs": [
    {
     "name": "stdout",
     "output_type": "stream",
     "text": [
      "name\n"
     ]
    }
   ],
   "source": [
    "print(a[3:7])    #if it starts from left,index number starts from 0"
   ]
  },
  {
   "cell_type": "code",
   "execution_count": 101,
   "id": "a3608f5b",
   "metadata": {},
   "outputs": [
    {
     "name": "stdout",
     "output_type": "stream",
     "text": [
      "Sumaiya\n"
     ]
    }
   ],
   "source": [
    "print(a[11:18])"
   ]
  },
  {
   "cell_type": "code",
   "execution_count": 108,
   "id": "e6de7e69",
   "metadata": {},
   "outputs": [
    {
     "name": "stdout",
     "output_type": "stream",
     "text": [
      "My name is\n"
     ]
    }
   ],
   "source": [
    "print(a[:-8])"
   ]
  },
  {
   "cell_type": "code",
   "execution_count": 109,
   "id": "30f4120e",
   "metadata": {},
   "outputs": [
    {
     "name": "stdout",
     "output_type": "stream",
     "text": [
      " Sumaiya\n"
     ]
    }
   ],
   "source": [
    "print(a[-8:])      #if it starts from right,index number starts from -1"
   ]
  },
  {
   "cell_type": "code",
   "execution_count": null,
   "id": "d086c2d9",
   "metadata": {},
   "outputs": [],
   "source": []
  }
 ],
 "metadata": {
  "kernelspec": {
   "display_name": "Python 3 (ipykernel)",
   "language": "python",
   "name": "python3"
  },
  "language_info": {
   "codemirror_mode": {
    "name": "ipython",
    "version": 3
   },
   "file_extension": ".py",
   "mimetype": "text/x-python",
   "name": "python",
   "nbconvert_exporter": "python",
   "pygments_lexer": "ipython3",
   "version": "3.9.13"
  }
 },
 "nbformat": 4,
 "nbformat_minor": 5
}
