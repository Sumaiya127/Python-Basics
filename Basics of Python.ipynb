{
 "cells": [
  {
   "cell_type": "code",
   "execution_count": null,
   "id": "dda6d2bf",
   "metadata": {},
   "outputs": [],
   "source": [
    "##BASICS OF PYTHON"
   ]
  },
  {
   "cell_type": "code",
   "execution_count": 22,
   "id": "1f3c344a",
   "metadata": {},
   "outputs": [
    {
     "name": "stdout",
     "output_type": "stream",
     "text": [
      "89\n"
     ]
    }
   ],
   "source": [
    "a=89\n",
    "print(a) ##to print any number"
   ]
  },
  {
   "cell_type": "code",
   "execution_count": 23,
   "id": "f9df4c6f",
   "metadata": {},
   "outputs": [
    {
     "name": "stdout",
     "output_type": "stream",
     "text": [
      "My name is Sumaiya\n"
     ]
    }
   ],
   "source": [
    "b=\"My name is Sumaiya\"\n",
    "print(b)                 ##To print a string"
   ]
  },
  {
   "cell_type": "code",
   "execution_count": 3,
   "id": "253c6030",
   "metadata": {},
   "outputs": [
    {
     "data": {
      "text/plain": [
       "66"
      ]
     },
     "execution_count": 3,
     "metadata": {},
     "output_type": "execute_result"
    }
   ],
   "source": [
    "56+10      ##To add we can simply write the numbers and run the code"
   ]
  },
  {
   "cell_type": "code",
   "execution_count": 4,
   "id": "5ab188f6",
   "metadata": {},
   "outputs": [
    {
     "data": {
      "text/plain": [
       "11"
      ]
     },
     "execution_count": 4,
     "metadata": {},
     "output_type": "execute_result"
    }
   ],
   "source": [
    "45-34"
   ]
  },
  {
   "cell_type": "code",
   "execution_count": 46,
   "id": "853c428d",
   "metadata": {},
   "outputs": [
    {
     "name": "stdout",
     "output_type": "stream",
     "text": [
      "Enter a number:23\n",
      "Enter another number:32\n",
      "55\n"
     ]
    }
   ],
   "source": [
    "c=int(input(\"Enter a number:\"))\n",
    "d=int(input(\"Enter another number:\"))\n",
    "\n",
    "sum=c+d\n",
    "print(sum)              #to add two number by giving the input by user"
   ]
  },
  {
   "cell_type": "code",
   "execution_count": 48,
   "id": "f96dacb6",
   "metadata": {},
   "outputs": [
    {
     "name": "stdout",
     "output_type": "stream",
     "text": [
      "Enter a number:23\n",
      "Enter another number:32\n",
      "2332\n"
     ]
    }
   ],
   "source": [
    "e=input(\"Enter a number:\")\n",
    "f=input(\"Enter another number:\")    ##If we don't define the data type,it considers it as string\n",
    "\n",
    "sum=e+f\n",
    "print(sum)     ##hence we get the output concatenation"
   ]
  },
  {
   "cell_type": "code",
   "execution_count": 49,
   "id": "1f74f8ac",
   "metadata": {},
   "outputs": [
    {
     "name": "stdout",
     "output_type": "stream",
     "text": [
      "Enter a number:34\n",
      "Enter second number:12\n",
      "22\n"
     ]
    }
   ],
   "source": [
    "##To subtract two numbers\n",
    "\n",
    "g=int(input(\"Enter a number:\"))\n",
    "h=int(input(\"Enter second number:\"))\n",
    "\n",
    "difference=g-h                              \n",
    "print(difference)   "
   ]
  },
  {
   "cell_type": "code",
   "execution_count": 50,
   "id": "5a4c0492",
   "metadata": {},
   "outputs": [
    {
     "name": "stdout",
     "output_type": "stream",
     "text": [
      "Enter a number:2\n",
      "Enter second number:5\n",
      "10\n"
     ]
    }
   ],
   "source": [
    "##To multiply two numbers\n",
    "\n",
    "i=int(input(\"Enter a number:\"))\n",
    "j=int(input(\"Enter second number:\"))\n",
    "product=i*j                             \n",
    "print(product)"
   ]
  },
  {
   "cell_type": "code",
   "execution_count": 51,
   "id": "26cfabf3",
   "metadata": {},
   "outputs": [
    {
     "name": "stdout",
     "output_type": "stream",
     "text": [
      "Enter a number:2\n",
      "Enter second number:3\n",
      "8\n"
     ]
    }
   ],
   "source": [
    "##To find the power \n",
    "\n",
    "k=int(input(\"Enter a number:\"))\n",
    "l=int(input(\"Enter second number:\"))\n",
    "power=k**l                             \n",
    "print(power)"
   ]
  },
  {
   "cell_type": "code",
   "execution_count": 11,
   "id": "54a84e7d",
   "metadata": {},
   "outputs": [
    {
     "data": {
      "text/plain": [
       "256"
      ]
     },
     "execution_count": 11,
     "metadata": {},
     "output_type": "execute_result"
    }
   ],
   "source": [
    "##Or we can simply write\n",
    "\n",
    "2**8"
   ]
  },
  {
   "cell_type": "code",
   "execution_count": 12,
   "id": "6dffd413",
   "metadata": {},
   "outputs": [
    {
     "data": {
      "text/plain": [
       "16"
      ]
     },
     "execution_count": 12,
     "metadata": {},
     "output_type": "execute_result"
    }
   ],
   "source": [
    "##TO do arithmetic operations,we can simply write the expression\n",
    "\n",
    "\n",
    "(2*3)+10"
   ]
  },
  {
   "cell_type": "code",
   "execution_count": 52,
   "id": "1124575f",
   "metadata": {},
   "outputs": [
    {
     "name": "stdout",
     "output_type": "stream",
     "text": [
      "Enter a number:3\n",
      "Enter second number:5\n",
      "64\n"
     ]
    }
   ],
   "source": [
    "##OR we can give the input by user\n",
    "\n",
    "m=int(input(\"Enter a number:\"))\n",
    "n=int(input(\"Enter second number:\"))\n",
    "\n",
    "o=(m+n)**2\n",
    "\n",
    "print(o)"
   ]
  },
  {
   "cell_type": "code",
   "execution_count": 53,
   "id": "4ecb5fb2",
   "metadata": {},
   "outputs": [
    {
     "name": "stdout",
     "output_type": "stream",
     "text": [
      "<class 'int'>\n"
     ]
    }
   ],
   "source": [
    "##TO find the data type\n",
    "\n",
    "p=5\n",
    "print(type(p))"
   ]
  },
  {
   "cell_type": "code",
   "execution_count": 54,
   "id": "108c6a45",
   "metadata": {},
   "outputs": [
    {
     "data": {
      "text/plain": [
       "float"
      ]
     },
     "execution_count": 54,
     "metadata": {},
     "output_type": "execute_result"
    }
   ],
   "source": [
    "q=7.8\n",
    "type(q)"
   ]
  },
  {
   "cell_type": "code",
   "execution_count": 55,
   "id": "5e069b1f",
   "metadata": {},
   "outputs": [
    {
     "data": {
      "text/plain": [
       "str"
      ]
     },
     "execution_count": 55,
     "metadata": {},
     "output_type": "execute_result"
    }
   ],
   "source": [
    "r=\"Data Science\"\n",
    "type(r)"
   ]
  },
  {
   "cell_type": "code",
   "execution_count": 64,
   "id": "7549d0bd",
   "metadata": {},
   "outputs": [
    {
     "name": "stdout",
     "output_type": "stream",
     "text": [
      "10\n",
      "<class 'int'>\n"
     ]
    }
   ],
   "source": [
    "sum=a+b\n",
    "print(sum) \n",
    "print(type(sum))"
   ]
  },
  {
   "cell_type": "code",
   "execution_count": 70,
   "id": "5df0cc91",
   "metadata": {},
   "outputs": [
    {
     "name": "stdout",
     "output_type": "stream",
     "text": [
      "Variable     Type       Data/Info\n",
      "---------------------------------\n",
      "a            int        5\n",
      "b            int        5\n",
      "c            int        23\n",
      "d            int        32\n",
      "difference   int        22\n",
      "e            str        23\n",
      "f            str        32\n",
      "g            int        34\n",
      "h            int        12\n",
      "i            int        2\n",
      "j            int        5\n",
      "k            int        2\n",
      "l            int        3\n",
      "m            int        3\n",
      "n            int        5\n",
      "o            int        64\n",
      "p            int        5\n",
      "power        int        8\n",
      "product      int        10\n",
      "q            float      7.8\n",
      "r            str        Data Science\n",
      "result       int        49\n",
      "s            complex    (3+5j)\n",
      "sum          int        10\n",
      "t            int        2\n",
      "u            float      3.4\n",
      "v            str        python\n",
      "w            int        34\n",
      "x            str        My name is Sumaiya\n"
     ]
    }
   ],
   "source": [
    "%whos   ##gives info about the name,type of all the variables created by you"
   ]
  },
  {
   "cell_type": "code",
   "execution_count": 60,
   "id": "fa1afb06",
   "metadata": {},
   "outputs": [
    {
     "name": "stdout",
     "output_type": "stream",
     "text": [
      "(3+5j)\n",
      "<class 'complex'>\n"
     ]
    }
   ],
   "source": [
    "s=3+5j\n",
    "print(s)\n",
    "print(type(s))"
   ]
  },
  {
   "cell_type": "code",
   "execution_count": 69,
   "id": "caa1b356",
   "metadata": {},
   "outputs": [
    {
     "name": "stdout",
     "output_type": "stream",
     "text": [
      "2 3.4 python 34\n"
     ]
    }
   ],
   "source": [
    "t,u,v,w=2,3.4,\"python\",34\n",
    "print(t,u,v,w)\n"
   ]
  },
  {
   "cell_type": "code",
   "execution_count": null,
   "id": "461ae986",
   "metadata": {},
   "outputs": [],
   "source": []
  }
 ],
 "metadata": {
  "kernelspec": {
   "display_name": "Python 3 (ipykernel)",
   "language": "python",
   "name": "python3"
  },
  "language_info": {
   "codemirror_mode": {
    "name": "ipython",
    "version": 3
   },
   "file_extension": ".py",
   "mimetype": "text/x-python",
   "name": "python",
   "nbconvert_exporter": "python",
   "pygments_lexer": "ipython3",
   "version": "3.9.13"
  }
 },
 "nbformat": 4,
 "nbformat_minor": 5
}
